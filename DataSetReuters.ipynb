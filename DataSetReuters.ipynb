{
 "cells": [
  {
   "cell_type": "code",
   "execution_count": 1,
   "id": "727033ee-d822-4006-96e8-d4697d13595a",
   "metadata": {},
   "outputs": [
    {
     "name": "stderr",
     "output_type": "stream",
     "text": [
      "2024-06-20 14:45:18.219089: I external/local_tsl/tsl/cuda/cudart_stub.cc:32] Could not find cuda drivers on your machine, GPU will not be used.\n",
      "2024-06-20 14:45:18.224364: I external/local_tsl/tsl/cuda/cudart_stub.cc:32] Could not find cuda drivers on your machine, GPU will not be used.\n",
      "2024-06-20 14:45:18.310888: I tensorflow/core/platform/cpu_feature_guard.cc:210] This TensorFlow binary is optimized to use available CPU instructions in performance-critical operations.\n",
      "To enable the following instructions: FMA, in other operations, rebuild TensorFlow with the appropriate compiler flags.\n",
      "2024-06-20 14:45:23.786883: W tensorflow/compiler/tf2tensorrt/utils/py_utils.cc:38] TF-TRT Warning: Could not find TensorRT\n"
     ]
    }
   ],
   "source": [
    "# Import necessary libraries\n",
    "import tensorflow as tf\n",
    "from tensorflow.keras import datasets, layers, models\n",
    "import matplotlib.pyplot as plt\n",
    "import numpy as np"
   ]
  },
  {
   "cell_type": "markdown",
   "id": "5584dea9-2db9-4e4b-a6d0-7753be07c33d",
   "metadata": {},
   "source": [
    "Loading the Dataset:\n",
    "\n",
    "The Reuters dataset is loaded, with a vocabulary size limited to the top 10,000 most frequently occurring words."
   ]
  },
  {
   "cell_type": "code",
   "execution_count": 3,
   "id": "a3fd1bed-893e-4a1a-a047-e284e17cf2bb",
   "metadata": {},
   "outputs": [],
   "source": [
    "# Load the Reuters dataset\n",
    "(train_data, train_labels), (test_data, test_labels) = datasets.reuters.load_data(num_words=10000)"
   ]
  },
  {
   "cell_type": "markdown",
   "id": "995956f1-bd67-4e81-87c4-0f0fe6b3d0b8",
   "metadata": {},
   "source": [
    "Decoding Function:\n",
    "\n",
    "A function is provided to decode the newswires back to text for better understanding of the data."
   ]
  },
  {
   "cell_type": "code",
   "execution_count": 4,
   "id": "101db986-61fd-46d6-8bf6-2c6914d6f0bf",
   "metadata": {},
   "outputs": [
    {
     "name": "stdout",
     "output_type": "stream",
     "text": [
      "Downloading data from https://storage.googleapis.com/tensorflow/tf-keras-datasets/reuters_word_index.json\n",
      "\u001b[1m550378/550378\u001b[0m \u001b[32m━━━━━━━━━━━━━━━━━━━━\u001b[0m\u001b[37m\u001b[0m \u001b[1m0s\u001b[0m 1us/step\n"
     ]
    }
   ],
   "source": [
    "# Function to decode newswires back to text\n",
    "word_index = datasets.reuters.get_word_index()\n",
    "reverse_word_index = {value: key for key, value in word_index.items()}"
   ]
  },
  {
   "cell_type": "markdown",
   "id": "3794e04a-a078-4e2f-adc2-43f320a53777",
   "metadata": {},
   "source": [
    "Preprocessing the Data:\n",
    "\n",
    "The newswire data is vectorized into binary matrices, where each entry corresponds to a word in the vocabulary.\n",
    "The labels are one-hot encoded for categorical classification."
   ]
  },
  {
   "cell_type": "code",
   "execution_count": 5,
   "id": "ab629342-785b-43f6-b791-6bcb19e4c2fb",
   "metadata": {},
   "outputs": [],
   "source": [
    "def decode_newswire(text):\n",
    "    return ' '.join([reverse_word_index.get(i - 3, '?') for i in text])\n",
    "\n",
    "# Preprocess the data\n",
    "def vectorize_sequences(sequences, dimension=10000):\n",
    "    results = np.zeros((len(sequences), dimension))\n",
    "    for i, sequence in enumerate(sequences):\n",
    "        results[i, sequence] = 1.0\n",
    "    return results\n",
    "\n",
    "x_train = vectorize_sequences(train_data)\n",
    "x_test = vectorize_sequences(test_data)"
   ]
  },
  {
   "cell_type": "code",
   "execution_count": 6,
   "id": "7da48093-aa7f-4bdf-b51b-e0499feb5c10",
   "metadata": {},
   "outputs": [],
   "source": [
    "# One-hot encode the labels\n",
    "y_train = tf.keras.utils.to_categorical(train_labels)\n",
    "y_test = tf.keras.utils.to_categorical(test_labels)"
   ]
  },
  {
   "cell_type": "markdown",
   "id": "9ad94db4-b98a-4f84-b1f6-d8c41553db9d",
   "metadata": {},
   "source": [
    "Building the Model:\n",
    "\n",
    "A simple neural network with two hidden layers, each with 64 units and ReLU activation, and an output layer with 46 units (one for each class) and softmax activation is built."
   ]
  },
  {
   "cell_type": "code",
   "execution_count": 7,
   "id": "c7d2d4ae-9668-45ff-b52d-54858009fe15",
   "metadata": {},
   "outputs": [
    {
     "name": "stderr",
     "output_type": "stream",
     "text": [
      "/home/oscar/anaconda3/envs/myenv/lib/python3.12/site-packages/keras/src/layers/core/dense.py:87: UserWarning: Do not pass an `input_shape`/`input_dim` argument to a layer. When using Sequential models, prefer using an `Input(shape)` object as the first layer in the model instead.\n",
      "  super().__init__(activity_regularizer=activity_regularizer, **kwargs)\n"
     ]
    }
   ],
   "source": [
    "# Build the model\n",
    "model = models.Sequential()\n",
    "model.add(layers.Dense(64, activation='relu', input_shape=(10000,)))\n",
    "model.add(layers.Dense(64, activation='relu'))\n",
    "model.add(layers.Dense(46, activation='softmax'))"
   ]
  },
  {
   "cell_type": "markdown",
   "id": "56d8cba3-6b7e-4d6e-b53d-4dc21996b3ca",
   "metadata": {},
   "source": [
    "Compiling the Model:\n",
    "\n",
    "The model is compiled using the Adam optimizer and categorical crossentropy loss."
   ]
  },
  {
   "cell_type": "code",
   "execution_count": 8,
   "id": "b43c27c1-7404-4bdf-b3b4-4079cd39c0db",
   "metadata": {},
   "outputs": [],
   "source": [
    "# Compile the model\n",
    "model.compile(optimizer='adam',\n",
    "              loss='categorical_crossentropy',\n",
    "              metrics=['accuracy'])"
   ]
  },
  {
   "cell_type": "markdown",
   "id": "cdf90aa2-8583-45eb-9a96-4beb16aa9d9c",
   "metadata": {},
   "source": [
    "Training the Model:\n",
    "\n",
    "The model is trained for 10 epochs with a batch size of 512, and the validation data is used to monitor performance.\n"
   ]
  },
  {
   "cell_type": "code",
   "execution_count": 9,
   "id": "fa14f2c5-9fdf-49c1-a2ea-b9f8d224205a",
   "metadata": {},
   "outputs": [
    {
     "name": "stdout",
     "output_type": "stream",
     "text": [
      "Epoch 1/10\n"
     ]
    },
    {
     "name": "stderr",
     "output_type": "stream",
     "text": [
      "2024-06-20 14:46:22.824769: W external/local_tsl/tsl/framework/cpu_allocator_impl.cc:83] Allocation of 359280000 exceeds 10% of free system memory.\n"
     ]
    },
    {
     "name": "stdout",
     "output_type": "stream",
     "text": [
      "\u001b[1m18/18\u001b[0m \u001b[32m━━━━━━━━━━━━━━━━━━━━\u001b[0m\u001b[37m\u001b[0m \u001b[1m0s\u001b[0m 203ms/step - accuracy: 0.3602 - loss: 3.4686"
     ]
    },
    {
     "name": "stderr",
     "output_type": "stream",
     "text": [
      "2024-06-20 14:46:29.351178: W external/local_tsl/tsl/framework/cpu_allocator_impl.cc:83] Allocation of 89840000 exceeds 10% of free system memory.\n"
     ]
    },
    {
     "name": "stdout",
     "output_type": "stream",
     "text": [
      "\u001b[1m18/18\u001b[0m \u001b[32m━━━━━━━━━━━━━━━━━━━━\u001b[0m\u001b[37m\u001b[0m \u001b[1m6s\u001b[0m 258ms/step - accuracy: 0.3658 - loss: 3.4480 - val_accuracy: 0.5833 - val_loss: 2.1803\n",
      "Epoch 2/10\n",
      "\u001b[1m18/18\u001b[0m \u001b[32m━━━━━━━━━━━━━━━━━━━━\u001b[0m\u001b[37m\u001b[0m \u001b[1m4s\u001b[0m 228ms/step - accuracy: 0.6432 - loss: 1.8442 - val_accuracy: 0.6825 - val_loss: 1.5027\n",
      "Epoch 3/10\n",
      "\u001b[1m18/18\u001b[0m \u001b[32m━━━━━━━━━━━━━━━━━━━━\u001b[0m\u001b[37m\u001b[0m \u001b[1m5s\u001b[0m 233ms/step - accuracy: 0.7352 - loss: 1.2461 - val_accuracy: 0.7213 - val_loss: 1.2562\n",
      "Epoch 4/10\n",
      "\u001b[1m18/18\u001b[0m \u001b[32m━━━━━━━━━━━━━━━━━━━━\u001b[0m\u001b[37m\u001b[0m \u001b[1m4s\u001b[0m 198ms/step - accuracy: 0.7975 - loss: 0.9446 - val_accuracy: 0.7556 - val_loss: 1.1135\n",
      "Epoch 5/10\n",
      "\u001b[1m18/18\u001b[0m \u001b[32m━━━━━━━━━━━━━━━━━━━━\u001b[0m\u001b[37m\u001b[0m \u001b[1m6s\u001b[0m 259ms/step - accuracy: 0.8448 - loss: 0.7216 - val_accuracy: 0.7729 - val_loss: 1.0268\n",
      "Epoch 6/10\n",
      "\u001b[1m18/18\u001b[0m \u001b[32m━━━━━━━━━━━━━━━━━━━━\u001b[0m\u001b[37m\u001b[0m \u001b[1m4s\u001b[0m 198ms/step - accuracy: 0.8794 - loss: 0.5857 - val_accuracy: 0.7787 - val_loss: 0.9690\n",
      "Epoch 7/10\n",
      "\u001b[1m18/18\u001b[0m \u001b[32m━━━━━━━━━━━━━━━━━━━━\u001b[0m\u001b[37m\u001b[0m \u001b[1m4s\u001b[0m 196ms/step - accuracy: 0.9106 - loss: 0.4281 - val_accuracy: 0.7881 - val_loss: 0.9450\n",
      "Epoch 8/10\n",
      "\u001b[1m18/18\u001b[0m \u001b[32m━━━━━━━━━━━━━━━━━━━━\u001b[0m\u001b[37m\u001b[0m \u001b[1m4s\u001b[0m 220ms/step - accuracy: 0.9313 - loss: 0.3314 - val_accuracy: 0.7876 - val_loss: 0.9405\n",
      "Epoch 9/10\n",
      "\u001b[1m18/18\u001b[0m \u001b[32m━━━━━━━━━━━━━━━━━━━━\u001b[0m\u001b[37m\u001b[0m \u001b[1m5s\u001b[0m 256ms/step - accuracy: 0.9383 - loss: 0.2713 - val_accuracy: 0.7939 - val_loss: 0.9452\n",
      "Epoch 10/10\n",
      "\u001b[1m18/18\u001b[0m \u001b[32m━━━━━━━━━━━━━━━━━━━━\u001b[0m\u001b[37m\u001b[0m \u001b[1m4s\u001b[0m 203ms/step - accuracy: 0.9465 - loss: 0.2207 - val_accuracy: 0.7925 - val_loss: 0.9586\n"
     ]
    }
   ],
   "source": [
    "# Train the model\n",
    "history = model.fit(x_train, y_train, epochs=10, batch_size=512, validation_data=(x_test, y_test))"
   ]
  },
  {
   "cell_type": "markdown",
   "id": "6190e9e9-a94e-4b52-9dd0-e69326facab0",
   "metadata": {},
   "source": [
    "Evaluating the Model:\n",
    "\n",
    "The model's performance is evaluated on the test data, and the test accuracy is printed."
   ]
  },
  {
   "cell_type": "code",
   "execution_count": 10,
   "id": "13f64f39-5205-4103-81c3-f0362711512d",
   "metadata": {
    "scrolled": true
   },
   "outputs": [
    {
     "name": "stderr",
     "output_type": "stream",
     "text": [
      "2024-06-20 14:48:42.809361: W external/local_tsl/tsl/framework/cpu_allocator_impl.cc:83] Allocation of 89840000 exceeds 10% of free system memory.\n"
     ]
    },
    {
     "name": "stdout",
     "output_type": "stream",
     "text": [
      "71/71 - 1s - 8ms/step - accuracy: 0.7925 - loss: 0.9586\n",
      "\n",
      "Test accuracy: 0.7925200462341309\n"
     ]
    }
   ],
   "source": [
    "# Evaluate the model\n",
    "test_loss, test_acc = model.evaluate(x_test, y_test, verbose=2)\n",
    "print(f'\\nTest accuracy: {test_acc}')"
   ]
  },
  {
   "cell_type": "markdown",
   "id": "a5b01208-2bb6-405d-b5b8-bcec8a5af023",
   "metadata": {},
   "source": [
    "Here is the interpretation of the result:\n",
    "\n",
    "```\n",
    "71/71 - 1s - 8ms/step - accuracy: 0.7925 - loss: 0.9586\n",
    "\n",
    "Test accuracy: 0.7925200462341309\n",
    "```\n",
    "\n",
    "### Breakdown of the Result:\n",
    "\n",
    "1. **71/71**: \n",
    "   - This indicates that the model evaluated the test dataset in 71 batches. Since the test data is divided into batches for evaluation, the total number of batches was 71.\n",
    "\n",
    "2. **1s**:\n",
    "   - This is the total time it took to evaluate the test dataset, approximately 1 second.\n",
    "\n",
    "3. **8ms/step**:\n",
    "   - This is the average time per batch during evaluation, approximately 8 milliseconds per batch.\n",
    "\n",
    "4. **accuracy: 0.7925**:\n",
    "   - This indicates that the model's accuracy on the test dataset is 79.25%. Accuracy refers to the percentage of correct predictions the model made on the test dataset.\n",
    "\n",
    "5. **loss: 0.9586**:\n",
    "   - This is the value of the loss function on the test dataset, which in this case is 0.9586. The loss function measures how well or poorly the model is performing; generally, a lower value indicates better performance.\n",
    "\n",
    "6. **Test accuracy: 0.7925200462341309**:\n",
    "   - This is the model's accuracy presented with more decimal places, confirming that the accuracy is 79.25%.\n",
    "\n",
    "### Interpretation:\n",
    "\n",
    "The model has achieved an accuracy of 79.25% on the test dataset. This means that approximately 79.25% of the news articles were correctly classified into their respective categories. The loss of 0.9586 gives an idea of how much error the model has; generally, a lower loss is preferable. In this case, a loss of 0.9586 is moderate and might indicate room for improvement.\n",
    "\n",
    "### Considerations:\n",
    "\n",
    "1. **Accuracy**: An accuracy of 79.25% is reasonably good, but depending on the application, it may need to be improved.\n",
    "2. **Loss**: A loss value of 0.9586 indicates that the model still has some margin of error. Techniques such as hyperparameter tuning, model adjustment, or using more training data might help reduce this loss.\n",
    "3. **Time Interpretation**: The evaluation time of approximately 1 second for 71 batches, with an average of 8 milliseconds per batch, indicates that the model is quite efficient in terms of inference time.\n",
    "\n",
    "In summary, the model has decent performance with an accuracy of 79.25%, but there is potential to improve its accuracy and reduce the loss with further adjustments."
   ]
  },
  {
   "cell_type": "markdown",
   "id": "351dd1da-3889-4165-8663-bc696d39688a",
   "metadata": {},
   "source": [
    "Plotting Results:\n",
    "\n",
    "The training and validation accuracy and loss are plotted to visualize the model's performance over the epochs."
   ]
  },
  {
   "cell_type": "code",
   "execution_count": 11,
   "id": "94306d4d-05fa-4223-a6e1-50ff77c4538d",
   "metadata": {},
   "outputs": [
    {
     "data": {
      "image/png": "[encoded data removed]",
      "text/plain": [
       "<Figure size 1000x500 with 2 Axes>"
      ]
     },
     "metadata": {},
     "output_type": "display_data"
    }
   ],
   "source": [
    "# Plot training and validation accuracy and loss\n",
    "plt.figure(figsize=(10, 5))\n",
    "plt.subplot(1, 2, 1)\n",
    "plt.plot(history.history['accuracy'], label='Training Accuracy')\n",
    "plt.plot(history.history['val_accuracy'], label='Validation Accuracy')\n",
    "plt.xlabel('Epochs')\n",
    "plt.ylabel('Accuracy')\n",
    "plt.ylim([0, 1])\n",
    "plt.legend(loc='lower right')\n",
    "\n",
    "plt.subplot(1, 2, 2)\n",
    "plt.plot(history.history['loss'], label='Training Loss')\n",
    "plt.plot(history.history['val_loss'], label='Validation Loss')\n",
    "plt.xlabel('Epochs')\n",
    "plt.ylabel('Loss')\n",
    "plt.legend(loc='upper right')\n",
    "plt.show()"
   ]
  },
  {
   "cell_type": "code",
   "execution_count": null,
   "id": "e907835f-2f01-44d2-80dd-6c2320ac1108",
   "metadata": {},
   "outputs": [],
   "source": []
  }
 ],
 "metadata": {
  "kernelspec": {
   "display_name": "Python 3 (ipykernel)",
   "language": "python",
   "name": "python3"
  },
  "language_info": {
   "codemirror_mode": {
    "name": "ipython",
    "version": 3
   },
   "file_extension": ".py",
   "mimetype": "text/x-python",
   "name": "python",
   "nbconvert_exporter": "python",
   "pygments_lexer": "ipython3",
   "version": "3.12.3"
  }
 },
 "nbformat": 4,
 "nbformat_minor": 5
}
